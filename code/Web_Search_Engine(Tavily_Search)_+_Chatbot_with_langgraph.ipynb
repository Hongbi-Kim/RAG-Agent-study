{
  "nbformat": 4,
  "nbformat_minor": 0,
  "metadata": {
    "colab": {
      "provenance": []
    },
    "kernelspec": {
      "name": "python3",
      "display_name": "Python 3"
    },
    "language_info": {
      "name": "python"
    }
  },
  "cells": [
    {
      "cell_type": "code",
      "execution_count": 1,
      "metadata": {
        "collapsed": true,
        "id": "yyLvIYgzH2YX",
        "colab": {
          "base_uri": "https://localhost:8080/"
        },
        "outputId": "8993c147-a91d-42bc-8241-da3d42f5e0b7"
      },
      "outputs": [
        {
          "output_type": "stream",
          "name": "stdout",
          "text": [
            "\u001b[2K     \u001b[90m━━━━━━━━━━━━━━━━━━━━━━━━━━━━━━━━━━━━━━━━\u001b[0m \u001b[32m43.7/43.7 kB\u001b[0m \u001b[31m2.7 MB/s\u001b[0m eta \u001b[36m0:00:00\u001b[0m\n",
            "\u001b[2K   \u001b[90m━━━━━━━━━━━━━━━━━━━━━━━━━━━━━━━━━━━━━━━━\u001b[0m \u001b[32m2.5/2.5 MB\u001b[0m \u001b[31m22.8 MB/s\u001b[0m eta \u001b[36m0:00:00\u001b[0m\n",
            "\u001b[2K   \u001b[90m━━━━━━━━━━━━━━━━━━━━━━━━━━━━━━━━━━━━━━━━\u001b[0m \u001b[32m143.7/143.7 kB\u001b[0m \u001b[31m13.0 MB/s\u001b[0m eta \u001b[36m0:00:00\u001b[0m\n",
            "\u001b[2K   \u001b[90m━━━━━━━━━━━━━━━━━━━━━━━━━━━━━━━━━━━━━━━━\u001b[0m \u001b[32m70.4/70.4 kB\u001b[0m \u001b[31m4.5 MB/s\u001b[0m eta \u001b[36m0:00:00\u001b[0m\n",
            "\u001b[2K   \u001b[90m━━━━━━━━━━━━━━━━━━━━━━━━━━━━━━━━━━━━━━━━\u001b[0m \u001b[32m292.8/292.8 kB\u001b[0m \u001b[31m14.5 MB/s\u001b[0m eta \u001b[36m0:00:00\u001b[0m\n",
            "\u001b[2K   \u001b[90m━━━━━━━━━━━━━━━━━━━━━━━━━━━━━━━━━━━━━━━━\u001b[0m \u001b[32m43.8/43.8 kB\u001b[0m \u001b[31m3.8 MB/s\u001b[0m eta \u001b[36m0:00:00\u001b[0m\n",
            "\u001b[2K   \u001b[90m━━━━━━━━━━━━━━━━━━━━━━━━━━━━━━━━━━━━━━━━\u001b[0m \u001b[32m50.1/50.1 kB\u001b[0m \u001b[31m3.0 MB/s\u001b[0m eta \u001b[36m0:00:00\u001b[0m\n",
            "\u001b[2K   \u001b[90m━━━━━━━━━━━━━━━━━━━━━━━━━━━━━━━━━━━━━━━━\u001b[0m \u001b[32m45.2/45.2 kB\u001b[0m \u001b[31m3.8 MB/s\u001b[0m eta \u001b[36m0:00:00\u001b[0m\n",
            "\u001b[2K   \u001b[90m━━━━━━━━━━━━━━━━━━━━━━━━━━━━━━━━━━━━━━━━\u001b[0m \u001b[32m50.9/50.9 kB\u001b[0m \u001b[31m3.4 MB/s\u001b[0m eta \u001b[36m0:00:00\u001b[0m\n",
            "\u001b[2K   \u001b[90m━━━━━━━━━━━━━━━━━━━━━━━━━━━━━━━━━━━━━━━━\u001b[0m \u001b[32m216.5/216.5 kB\u001b[0m \u001b[31m17.3 MB/s\u001b[0m eta \u001b[36m0:00:00\u001b[0m\n",
            "\u001b[?25h"
          ]
        }
      ],
      "source": [
        "!pip install -qU tavily-python langchain_community langchain_anthropic langgraph langchain_openai"
      ]
    },
    {
      "cell_type": "markdown",
      "source": [
        "## How to use Tavily Search API\n",
        "\n",
        "Tavily Search Documents : https://docs.tavily.com/docs/python-sdk/tavily-search/getting-started\n",
        "\n",
        "Get API Key : https://app.tavily.com/home"
      ],
      "metadata": {
        "id": "OGjd93BrMoUO"
      }
    },
    {
      "cell_type": "code",
      "source": [
        "import os\n",
        "os.environ[\"TAVILY_API_KEY\"] = \"tvly-...\""
      ],
      "metadata": {
        "id": "EQnu3EWPIlGF"
      },
      "execution_count": null,
      "outputs": []
    },
    {
      "cell_type": "code",
      "source": [
        "from tavily import TavilyClient\n",
        "\n",
        "tavily_client = TavilyClient()"
      ],
      "metadata": {
        "id": "gOI4lwdmcPvE"
      },
      "execution_count": null,
      "outputs": []
    },
    {
      "cell_type": "markdown",
      "source": [
        "**search**\n",
        "\n",
        "- Return : dict with all related response fields"
      ],
      "metadata": {
        "id": "Mkbj0fXLcGj8"
      }
    },
    {
      "cell_type": "code",
      "source": [
        "response = tavily_client.search(\"What is AI Agent?\", max_results=3) # , topic=\"news\", days = 10 (최신)\n",
        "print(response)"
      ],
      "metadata": {
        "colab": {
          "base_uri": "https://localhost:8080/"
        },
        "id": "RlJ7AYmqJIOD",
        "outputId": "bfe1322e-e1e8-4b49-863a-fd0189dcfb12"
      },
      "execution_count": null,
      "outputs": [
        {
          "output_type": "stream",
          "name": "stdout",
          "text": [
            "{'query': 'What is AI Agent?', 'follow_up_questions': None, 'answer': None, 'images': [], 'results': [{'title': 'What are AI Agents?- Agents in Artificial Intelligence Explained - AWS', 'url': 'https://aws.amazon.com/what-is/ai-agents/', 'content': 'What are AI Agents?- Agents in Artificial Intelligence Explained - AWS What are AI Agents? What are AI Agents? How can AWS help with your AI agent requirements? What are AI Agents? An artificial intelligence (AI) agent is a software program that can interact with its environment, collect data, and use the data to perform self-determined tasks to meet predetermined goals. How can AWS help with your AI agent requirements? Organizations can also use generative artificial intelligence (generative AI) and other Amazon Web Services (AWS) AI services to build their own AI agents. Train, operate, and scale your AI agents on AWS Trainium, a purpose-built ML learning accelerator for deep learning models Get started with AI agents on AWS by creating an account today.', 'score': 0.92125154, 'raw_content': None}, {'title': 'AI Agents Explained: Benefits, Uses and Examples in 2025', 'url': 'https://www.creaitor.ai/blog/ai-agents-explained', 'content': 'What Are AI Agents? AI agents are autonomous software programs that simulate human intelligence to perform tasks, make decisions, and interact with users. Benefits of AI Agents  Uses of AI Agents  AI agents are changing the way businesses manage sales and leads. Examples of AI Agents  How Businesses Can Implement AI Agents  Agentic AI chatbots can operate independently, make decisions and adapt to new information without human input. Non-agentic AI chatbots, however, follow rigid scripts and rely on human directives for decision-making, limiting their adaptability. What Is Multi-Agent AI? If youâ\\x80\\x99re not already leveraging AI agents for your business, now is the time to start.', 'score': 0.90123636, 'raw_content': None}, {'title': 'Agents in Artificial Intelligence - GeeksforGeeks', 'url': 'https://www.geeksforgeeks.org/agents-artificial-intelligence/', 'content': 'In artificial intelligence, an agent is a computer program or system that is designed to perceive its environment, make decisions and take actions to achieve a specific goal or set of goals. Agents in Artificial Intelligence In artificial intelligence, an agent is a computer program or system that is designed to perceive its environment, make decisions and take actions to achieve a specific goal or set of goals. Search Algorithms in AI Artificial Intelligence is the study of building agents that act rationally. Adversarial Search Algorithms in Artificial Intelligence (AI) Adversarial search algorithms are the backbone of strategic decision-making in artificial intelligence, it enables the agents to navigate competitive scenarios effectively.', 'score': 0.8443195, 'raw_content': None}], 'response_time': 2.14}\n"
          ]
        }
      ]
    },
    {
      "cell_type": "code",
      "source": [
        "response['results']"
      ],
      "metadata": {
        "colab": {
          "base_uri": "https://localhost:8080/"
        },
        "id": "SG0u6DpWafov",
        "outputId": "67692c50-b4fd-4809-b173-32f6f3805ccb"
      },
      "execution_count": null,
      "outputs": [
        {
          "output_type": "execute_result",
          "data": {
            "text/plain": [
              "[{'title': 'What are AI Agents?- Agents in Artificial Intelligence Explained - AWS',\n",
              "  'url': 'https://aws.amazon.com/what-is/ai-agents/',\n",
              "  'content': 'What are AI Agents?- Agents in Artificial Intelligence Explained - AWS What are AI Agents? What are AI Agents? How can AWS help with your AI agent requirements? What are AI Agents? An artificial intelligence (AI) agent is a software program that can interact with its environment, collect data, and use the data to perform self-determined tasks to meet predetermined goals. How can AWS help with your AI agent requirements? Organizations can also use generative artificial intelligence (generative AI) and other Amazon Web Services (AWS) AI services to build their own AI agents. Train, operate, and scale your AI agents on AWS Trainium, a purpose-built ML learning accelerator for deep learning models Get started with AI agents on AWS by creating an account today.',\n",
              "  'score': 0.92125154,\n",
              "  'raw_content': None},\n",
              " {'title': 'AI Agents Explained: Benefits, Uses and Examples in 2025',\n",
              "  'url': 'https://www.creaitor.ai/blog/ai-agents-explained',\n",
              "  'content': 'What Are AI Agents? AI agents are autonomous software programs that simulate human intelligence to perform tasks, make decisions, and interact with users. Benefits of AI Agents  Uses of AI Agents  AI agents are changing the way businesses manage sales and leads. Examples of AI Agents  How Businesses Can Implement AI Agents  Agentic AI chatbots can operate independently, make decisions and adapt to new information without human input. Non-agentic AI chatbots, however, follow rigid scripts and rely on human directives for decision-making, limiting their adaptability. What Is Multi-Agent AI? If youâ\\x80\\x99re not already leveraging AI agents for your business, now is the time to start.',\n",
              "  'score': 0.90123636,\n",
              "  'raw_content': None},\n",
              " {'title': 'Agents in Artificial Intelligence - GeeksforGeeks',\n",
              "  'url': 'https://www.geeksforgeeks.org/agents-artificial-intelligence/',\n",
              "  'content': 'In artificial intelligence, an agent is a computer program or system that is designed to perceive its environment, make decisions and take actions to achieve a specific goal or set of goals. Agents in Artificial Intelligence In artificial intelligence, an agent is a computer program or system that is designed to perceive its environment, make decisions and take actions to achieve a specific goal or set of goals. Search Algorithms in AI Artificial Intelligence is the study of building agents that act rationally. Adversarial Search Algorithms in Artificial Intelligence (AI) Adversarial search algorithms are the backbone of strategic decision-making in artificial intelligence, it enables the agents to navigate competitive scenarios effectively.',\n",
              "  'score': 0.8443195,\n",
              "  'raw_content': None}]"
            ]
          },
          "metadata": {},
          "execution_count": 5
        }
      ]
    },
    {
      "cell_type": "markdown",
      "source": [
        "**get_search_context**\n",
        "\n",
        "- Return : str containing the content and sources of the results"
      ],
      "metadata": {
        "id": "t5XJ6b4NblxV"
      }
    },
    {
      "cell_type": "code",
      "source": [
        "context = tavily_client.get_search_context(query=\"What is AI Agent?\")\n",
        "print(context)"
      ],
      "metadata": {
        "colab": {
          "base_uri": "https://localhost:8080/"
        },
        "id": "pl9O4x0rJVCr",
        "outputId": "3dbd54d0-6aee-4421-de78-501df8fa70c3"
      },
      "execution_count": null,
      "outputs": [
        {
          "output_type": "stream",
          "name": "stdout",
          "text": [
            "[{\"url\": \"https://theconversation.com/what-is-an-ai-agent-a-computer-scientist-explains-the-next-wave-of-artificial-intelligence-tools-242586\", \"content\": \"What is an AI agent? What is an AI agent? As a computer scientist, I offer this definition: AI agents are technological tools that can learn a lot about a given environment, and then \\u2013 with a few simple prompts from a human \\u2013 work to solve problems or perform specific tasks in that environment. Many of today\\u2019s AI agents are utility based, meaning they give more consideration to how to achieve their goals. Researchers at OpenAI and Google DeepMind say agents are another step on the path to artificial general intelligence or \\u201cstrong\\u201d AI \\u2013 that is, AI that exceeds human capabilities in a wide variety of domains and tasks.\"}, {\"url\": \"https://aws.amazon.com/what-is/ai-agents/\", \"content\": \"What are AI Agents?- Agents in Artificial Intelligence Explained - AWS What are AI Agents? What are AI Agents? How can AWS help with your AI agent requirements? What are AI Agents? An artificial intelligence (AI) agent is a software program that can interact with its environment, collect data, and use the data to perform self-determined tasks to meet predetermined goals. How can AWS help with your AI agent requirements? Organizations can also use generative artificial intelligence (generative AI) and other Amazon Web Services (AWS) AI services to build their own AI agents. Train, operate, and scale your AI agents on AWS Trainium, a purpose-built ML learning accelerator for deep learning models Get started with AI agents on AWS by creating an account today.\"}, {\"url\": \"https://www.creaitor.ai/blog/ai-agents-explained\", \"content\": \"What Are AI Agents? AI agents are autonomous software programs that simulate human intelligence to perform tasks, make decisions, and interact with users. Benefits of AI Agents  Uses of AI Agents  AI agents are changing the way businesses manage sales and leads. Examples of AI Agents  How Businesses Can Implement AI Agents  Agentic AI chatbots can operate independently, make decisions and adapt to new information without human input. Non-agentic AI chatbots, however, follow rigid scripts and rely on human directives for decision-making, limiting their adaptability. What Is Multi-Agent AI? If you\\u00e2\\u0080\\u0099re not already leveraging AI agents for your business, now is the time to start.\"}, {\"url\": \"https://www.geeky-gadgets.com/ai-agents-explained/\", \"content\": \"AI agents are currently at the cutting-edge of how we are using AI to tackle complex tasks and decision-making processes. These autonomous systems, designed to operate without human intervention\"}, {\"url\": \"https://www.ibm.com/think/topics/ai-agents\", \"content\": \"The agent's ability to store past interactions in memory and plan future actions encourages a personalized experience and comprehensive responses.1\\u00a0This tool calling can be achieved without human intervention and broadens the possibilities for real-world applications of these AI systems. The user that provides the\\u00a0AI agent\\u00a0with specific goals to accomplish and establishes available tools to use. Given the user's goals and the agent\\u2019s available tools, the\\u00a0AI agent\\u00a0then performs task decomposition to improve performance.3\\u00a0Essentially, the agent creates a plan of\\u00a0specific tasks\\u00a0and subtasks to accomplish the complex goal. In contrast,\\u00a0agentic AI chatbots learn to adapt to user expectations over time, providing a more personalized experience and comprehensive responses.\"}]\n"
          ]
        }
      ]
    },
    {
      "cell_type": "markdown",
      "source": [
        "**qna_search**\n",
        "\n",
        "- Return : str, containing a short answer to the search query"
      ],
      "metadata": {
        "id": "Z-mPxePybb3U"
      }
    },
    {
      "cell_type": "code",
      "source": [
        "answer = tavily_client.qna_search(query=\"What is AI Agent?\")\n",
        "print(answer)"
      ],
      "metadata": {
        "colab": {
          "base_uri": "https://localhost:8080/"
        },
        "id": "E6F-UuixJenA",
        "outputId": "3447e30e-3564-4850-de20-15d0bf0821b9"
      },
      "execution_count": null,
      "outputs": [
        {
          "output_type": "stream",
          "name": "stdout",
          "text": [
            "An AI agent is an autonomous software program that interacts with its environment, collects data, and performs self-determined tasks to meet predetermined goals. AI agents can observe their surroundings, make decisions, and take actions to achieve specific objectives, ranging from simple task-specific programs to sophisticated systems that combine perception, reasoning, and action capabilities. They are designed to perform jobs traditionally done by human agents in customer service, HR, IT help desks, and other areas, leveraging advancements in AI frameworks, model efficiency, and infrastructure improvements to enhance their capabilities.\n"
          ]
        }
      ]
    },
    {
      "cell_type": "code",
      "source": [],
      "metadata": {
        "id": "84pLENeabPV5"
      },
      "execution_count": null,
      "outputs": []
    },
    {
      "cell_type": "markdown",
      "source": [
        "## How to use Tavily Search **as Tool** in Langchain\n",
        "\n",
        "- https://python.langchain.com/api_reference/community/tools/langchain_community.tools.tavily_search.tool.TavilySearchResults.html\n",
        "\n",
        "- Tool that queries the Tavily Search API and gets back json"
      ],
      "metadata": {
        "id": "ZfZ8Af9oNIGQ"
      }
    },
    {
      "cell_type": "code",
      "source": [
        "from langchain_community.tools.tavily_search import TavilySearchResults\n",
        "\n",
        "tool = TavilySearchResults(max_results=2)\n",
        "tool.invoke(\"What's a 'node' in LangGraph?\")"
      ],
      "metadata": {
        "colab": {
          "base_uri": "https://localhost:8080/"
        },
        "id": "TRbawqsKIwrQ",
        "outputId": "c2cc6d27-c039-4464-c4b1-08ab5948ccdf"
      },
      "execution_count": null,
      "outputs": [
        {
          "output_type": "execute_result",
          "data": {
            "text/plain": [
              "[{'url': 'https://medium.com/@kbdhunga/beginners-guide-to-langgraph-understanding-state-nodes-and-edges-part-1-897e6114fa48',\n",
              "  'content': \"Beginner’s Guide to LangGraph: Understanding State, Nodes, and Edges — Part 1 | by Kamal Dhungana | Medium Beginner’s Guide to LangGraph: Understanding State, Nodes, and Edges — Part 1 LangGraph — State, Node and Edge Explained Mainly, we will focus on various components of LangGraph: State, Node, and Edges, and how to build a complete graph from these components. Once we understand these components, we will be able to build relatively complex LangGraph-based agents. Each node represents a specific function or operation that processes the current state. Nodes can perform computations, modify the state, or generate outputs based on the input they receive. Follow 1.2K Followers Data scientist with a passion for AI, Regularly blogging about LLM and OpenAI's innovations,Sharing insights for AI community growth Follow\"},\n",
              " {'url': 'https://blog.langchain.dev/langgraph/',\n",
              "  'content': 'TL;DR: LangGraph is module built on top of LangChain to better enable creation of cyclical graphs, often needed for agent runtimes. This state is updated by nodes in the graph, which return operations to attributes of this state (in the form of a key-value store). After adding nodes, you can then add edges to create the graph. An example of this may be in the basic agent runtime, where we always want the model to be called after we call a tool. graph.add_edge(\"tools\", \"model\") The state of this graph by default contains concepts that should be familiar to you if you\\'ve used LangChain agents: input, chat_history, intermediate_steps (and agent_outcome to represent the most recent agent outcome)'}]"
            ]
          },
          "metadata": {},
          "execution_count": 8
        }
      ]
    },
    {
      "cell_type": "markdown",
      "source": [
        "### **Binding tools**\n",
        "\n",
        "- LLM이 질문에 적합한 Tool을 호출하기\n",
        "\n",
        "- https://python.langchain.com/v0.1/docs/modules/model_io/chat/function_calling/#request-passing-tool-outputs-to-model"
      ],
      "metadata": {
        "id": "Rlddsc8ur_N7"
      }
    },
    {
      "cell_type": "code",
      "source": [
        "os.environ[\"OPENAI_API_KEY\"] = \"sk-proj-...\""
      ],
      "metadata": {
        "id": "p-YOXUUfQeVT"
      },
      "execution_count": null,
      "outputs": []
    },
    {
      "cell_type": "code",
      "source": [
        "# Example: Passing tool outputs to model\n",
        "from langchain_core.tools import tool\n",
        "\n",
        "@tool\n",
        "def add(a: int, b: int) -> int:\n",
        "    \"\"\"Adds a and b.\n",
        "\n",
        "    Args:\n",
        "        a: first int\n",
        "        b: second int\n",
        "    \"\"\"\n",
        "    return a + b\n",
        "\n",
        "@tool\n",
        "def multiply(a: int, b: int) -> int:\n",
        "    \"\"\"Multiplies a and b.\n",
        "\n",
        "    Args:\n",
        "        a: first int\n",
        "        b: second int\n",
        "    \"\"\"\n",
        "    return a * b\n",
        "\n",
        "tools = [add, multiply]"
      ],
      "metadata": {
        "id": "5W2-DY5OsJ2t"
      },
      "execution_count": null,
      "outputs": []
    },
    {
      "cell_type": "code",
      "source": [
        "from langchain_openai import ChatOpenAI\n",
        "\n",
        "llm = ChatOpenAI(model=\"gpt-4o\")\n",
        "llm_with_tools = llm.bind_tools(tools)"
      ],
      "metadata": {
        "id": "o4xWlCCevNin"
      },
      "execution_count": null,
      "outputs": []
    },
    {
      "cell_type": "code",
      "source": [
        "query = \"What is 3 * 12? Also, what is 11 + 49?\"\n",
        "\n",
        "llm_with_tools.invoke(query).tool_calls"
      ],
      "metadata": {
        "colab": {
          "base_uri": "https://localhost:8080/"
        },
        "id": "qRPsF2IEsQPP",
        "outputId": "05c9a4b4-7283-4096-bebb-5e11409fb62e"
      },
      "execution_count": null,
      "outputs": [
        {
          "output_type": "execute_result",
          "data": {
            "text/plain": [
              "[{'name': 'multiply',\n",
              "  'args': {'a': 3, 'b': 12},\n",
              "  'id': 'call_f1ZRUheF7Tz2TPRBwzSdpdpx',\n",
              "  'type': 'tool_call'},\n",
              " {'name': 'add',\n",
              "  'args': {'a': 11, 'b': 49},\n",
              "  'id': 'call_x1Kdd6RuA0XbbfofDabsdW4Q',\n",
              "  'type': 'tool_call'}]"
            ]
          },
          "metadata": {},
          "execution_count": 12
        }
      ]
    },
    {
      "cell_type": "code",
      "source": [
        "query = \"What is 12 % 2?\"\n",
        "\n",
        "llm_with_tools.invoke(query).tool_calls"
      ],
      "metadata": {
        "colab": {
          "base_uri": "https://localhost:8080/"
        },
        "id": "kUI1cqPJsOUr",
        "outputId": "582e2e6a-06a7-44a1-fc37-80202e7c3867"
      },
      "execution_count": null,
      "outputs": [
        {
          "output_type": "execute_result",
          "data": {
            "text/plain": [
              "[]"
            ]
          },
          "metadata": {},
          "execution_count": 13
        }
      ]
    },
    {
      "cell_type": "code",
      "source": [],
      "metadata": {
        "id": "QuppamOqsOKI"
      },
      "execution_count": null,
      "outputs": []
    },
    {
      "cell_type": "markdown",
      "source": [
        "### **Apply to Tavily Search**"
      ],
      "metadata": {
        "id": "8wtFKs8agcg4"
      }
    },
    {
      "cell_type": "code",
      "source": [
        "from langchain_openai import ChatOpenAI\n",
        "\n",
        "tool = TavilySearchResults(max_results=2)\n",
        "tools = [tool]\n",
        "\n",
        "llm = ChatOpenAI(model=\"gpt-4o\")\n",
        "llm_with_tools = llm.bind_tools(tools) # TavilySearchResults(tools) 을 호출할 수 있도록 함"
      ],
      "metadata": {
        "id": "LXWvc8RcrrSF"
      },
      "execution_count": null,
      "outputs": []
    },
    {
      "cell_type": "code",
      "source": [
        "llm_with_tools.invoke(\"안녕\")"
      ],
      "metadata": {
        "colab": {
          "base_uri": "https://localhost:8080/"
        },
        "id": "OnNhFhMLoMXt",
        "outputId": "d865cdc7-7790-4cae-c27d-e74ba3067dec"
      },
      "execution_count": null,
      "outputs": [
        {
          "output_type": "execute_result",
          "data": {
            "text/plain": [
              "AIMessage(content='안녕하세요! 무엇을 도와드릴까요?', additional_kwargs={'refusal': None}, response_metadata={'token_usage': {'completion_tokens': 13, 'prompt_tokens': 81, 'total_tokens': 94, 'completion_tokens_details': {'accepted_prediction_tokens': 0, 'audio_tokens': 0, 'reasoning_tokens': 0, 'rejected_prediction_tokens': 0}, 'prompt_tokens_details': {'audio_tokens': 0, 'cached_tokens': 0}}, 'model_name': 'gpt-4o-2024-08-06', 'system_fingerprint': 'fp_50cad350e4', 'finish_reason': 'stop', 'logprobs': None}, id='run-a9fb1056-5e15-445a-a309-e65bb72b4f13-0', usage_metadata={'input_tokens': 81, 'output_tokens': 13, 'total_tokens': 94, 'input_token_details': {'audio': 0, 'cache_read': 0}, 'output_token_details': {'audio': 0, 'reasoning': 0}})"
            ]
          },
          "metadata": {},
          "execution_count": 15
        }
      ]
    },
    {
      "cell_type": "code",
      "source": [
        "llm_with_tools.invoke(\"What is Langgraph?\")"
      ],
      "metadata": {
        "colab": {
          "base_uri": "https://localhost:8080/"
        },
        "id": "AX5O_5v1oOxA",
        "outputId": "aed10b97-5ced-48b2-8e0d-46479c934062"
      },
      "execution_count": null,
      "outputs": [
        {
          "output_type": "execute_result",
          "data": {
            "text/plain": [
              "AIMessage(content='', additional_kwargs={'tool_calls': [{'id': 'call_MVfHPAPjzaaXX6So1ahhOK9V', 'function': {'arguments': '{\"query\":\"Langgraph\"}', 'name': 'tavily_search_results_json'}, 'type': 'function'}], 'refusal': None}, response_metadata={'token_usage': {'completion_tokens': 20, 'prompt_tokens': 84, 'total_tokens': 104, 'completion_tokens_details': {'accepted_prediction_tokens': 0, 'audio_tokens': 0, 'reasoning_tokens': 0, 'rejected_prediction_tokens': 0}, 'prompt_tokens_details': {'audio_tokens': 0, 'cached_tokens': 0}}, 'model_name': 'gpt-4o-2024-08-06', 'system_fingerprint': 'fp_50cad350e4', 'finish_reason': 'tool_calls', 'logprobs': None}, id='run-4f1bc565-e281-4a51-a17f-e0c0d864a8b7-0', tool_calls=[{'name': 'tavily_search_results_json', 'args': {'query': 'Langgraph'}, 'id': 'call_MVfHPAPjzaaXX6So1ahhOK9V', 'type': 'tool_call'}], usage_metadata={'input_tokens': 84, 'output_tokens': 20, 'total_tokens': 104, 'input_token_details': {'audio': 0, 'cache_read': 0}, 'output_token_details': {'audio': 0, 'reasoning': 0}})"
            ]
          },
          "metadata": {},
          "execution_count": 16
        }
      ]
    },
    {
      "cell_type": "code",
      "source": [
        "llm_with_tools.invoke(\"What is Langgraph?\").tool_calls"
      ],
      "metadata": {
        "colab": {
          "base_uri": "https://localhost:8080/"
        },
        "id": "6U15z43Ms1y_",
        "outputId": "781efde0-e8b0-4997-c4de-e02fe0ad63a6"
      },
      "execution_count": null,
      "outputs": [
        {
          "output_type": "execute_result",
          "data": {
            "text/plain": [
              "[{'name': 'tavily_search_results_json',\n",
              "  'args': {'query': 'Langgraph'},\n",
              "  'id': 'call_MuHwzAOFbIrit1TPjjtSoXty',\n",
              "  'type': 'tool_call'}]"
            ]
          },
          "metadata": {},
          "execution_count": 17
        }
      ]
    },
    {
      "cell_type": "code",
      "source": [],
      "metadata": {
        "id": "28tDgBBVssGe"
      },
      "execution_count": null,
      "outputs": []
    },
    {
      "cell_type": "code",
      "source": [],
      "metadata": {
        "id": "bwBfpzgCr4gM"
      },
      "execution_count": null,
      "outputs": []
    },
    {
      "cell_type": "markdown",
      "source": [
        "## Langgraph - Web search + LLM = 검색 Chatbot\n",
        "\n",
        "- Tool을 호출하고 그 결과를 모델(LLM)로 전달하기\n",
        "\n",
        "- https://langchain-ai.github.io/langgraph/tutorials/introduction/#part-2-enhancing-the-chatbot-with-tools"
      ],
      "metadata": {
        "id": "pCwkNrcaNwCB"
      }
    },
    {
      "cell_type": "markdown",
      "source": [
        "### **Node** - 실제 작업을 수행하는 단위"
      ],
      "metadata": {
        "id": "-Q80VucLdbtc"
      }
    },
    {
      "cell_type": "markdown",
      "source": [
        "**chatbot**"
      ],
      "metadata": {
        "id": "AXS4Izk_du5_"
      }
    },
    {
      "cell_type": "code",
      "source": [
        "from typing import Annotated\n",
        "from typing_extensions import TypedDict\n",
        "\n",
        "from langgraph.graph import StateGraph, START, END\n",
        "from langgraph.graph.message import add_messages\n",
        "\n",
        "class State(TypedDict): # 그래프의 상태를 정의하는 클래스\n",
        "    messages: Annotated[list, add_messages] # 메시지 누적\n",
        "\n",
        "graph_builder = StateGraph(State) # StateGraph 생성 (대화 흐름 관리)\n",
        "\n",
        "def chatbot(state: State):\n",
        "    return {\"messages\": [llm_with_tools.invoke(state[\"messages\"])]}\n",
        "\n",
        "graph_builder.add_node(\"chatbot\", chatbot)"
      ],
      "metadata": {
        "colab": {
          "base_uri": "https://localhost:8080/"
        },
        "id": "F5JahKevI9_F",
        "outputId": "4356eb5b-157d-414e-9ab0-67c4edf8d1e0"
      },
      "execution_count": null,
      "outputs": [
        {
          "output_type": "execute_result",
          "data": {
            "text/plain": [
              "<langgraph.graph.state.StateGraph at 0x78b718348e10>"
            ]
          },
          "metadata": {},
          "execution_count": 18
        }
      ]
    },
    {
      "cell_type": "code",
      "source": [],
      "metadata": {
        "id": "FOnkgInzoU4b"
      },
      "execution_count": null,
      "outputs": []
    },
    {
      "cell_type": "markdown",
      "source": [
        "**tools**"
      ],
      "metadata": {
        "id": "o-xz-aXTdwm-"
      }
    },
    {
      "cell_type": "code",
      "source": [
        "import json\n",
        "from langchain_core.messages import ToolMessage\n",
        "\n",
        "class BasicToolNode:\n",
        "    \"\"\"\n",
        "        A node that runs the tools requested in the last AIMessage.\n",
        "        마지막 AIMessage에서 요청된 도구를 실행하는 노드\n",
        "    \"\"\"\n",
        "\n",
        "    def __init__(self, tools: list) -> None:\n",
        "        self.tools_by_name = {tool.name: tool for tool in tools} # [\"tavily_search_results_json\" : TavilySearchResults()]\n",
        "\n",
        "    def __call__(self, inputs: dict):\n",
        "        if messages := inputs.get(\"messages\", []):\n",
        "            message = messages[-1] # 마지막 message\n",
        "        else:\n",
        "            raise ValueError(\"No message found in input\")\n",
        "        outputs = []\n",
        "        for tool_call in message.tool_calls: # 메시지에서 호출된 도구를 불러옴\n",
        "            tool_result = self.tools_by_name[tool_call[\"name\"]].invoke( # Tool 호출 실행\n",
        "                tool_call[\"args\"]\n",
        "            )\n",
        "            outputs.append( # Tool 호출 결과(ToolMessage) 추가\n",
        "                ToolMessage(\n",
        "                    content=json.dumps(tool_result),\n",
        "                    name=tool_call[\"name\"],\n",
        "                    tool_call_id=tool_call[\"id\"],\n",
        "                )\n",
        "            )\n",
        "        return {\"messages\": outputs}\n",
        "\n",
        "tool_node = BasicToolNode(tools=[tool])\n",
        "graph_builder.add_node(\"tools\", tool_node)"
      ],
      "metadata": {
        "colab": {
          "base_uri": "https://localhost:8080/"
        },
        "id": "JPHJlu05KCd6",
        "outputId": "abce029a-03c6-4c95-c064-bc9c8b4f7d2f"
      },
      "execution_count": null,
      "outputs": [
        {
          "output_type": "execute_result",
          "data": {
            "text/plain": [
              "<langgraph.graph.state.StateGraph at 0x78b718348e10>"
            ]
          },
          "metadata": {},
          "execution_count": 19
        }
      ]
    },
    {
      "cell_type": "markdown",
      "source": [
        "### **Edge** - 노드 간의 연결"
      ],
      "metadata": {
        "id": "86znc3qidpZu"
      }
    },
    {
      "cell_type": "markdown",
      "source": [
        "**조건부 엣지, 라우팅 (add_conditional_edges)**"
      ],
      "metadata": {
        "id": "Lqq5tR9lk276"
      }
    },
    {
      "cell_type": "code",
      "source": [
        "def route_tools(\n",
        "    state: State,\n",
        "):\n",
        "    \"\"\"\n",
        "    Use in the conditional_edge to route to the ToolNode if the last message\n",
        "    has tool calls. Otherwise, route to the end.\n",
        "    \"\"\"\n",
        "    if isinstance(state, list):\n",
        "        ai_message = state[-1]\n",
        "    elif messages := state.get(\"messages\", []):\n",
        "        ai_message = messages[-1]\n",
        "    else:\n",
        "        raise ValueError(f\"No messages found in input state to tool_edge: {state}\")\n",
        "    if hasattr(ai_message, \"tool_calls\") and len(ai_message.tool_calls) > 0: # if the last message has \"tool_calls\"\n",
        "        return \"tools\"\n",
        "    return END\n",
        "\n",
        "# 조건부 엣지 연결\n",
        "graph_builder.add_conditional_edges(\n",
        "    \"chatbot\", # 시작 노드\n",
        "    route_tools,\n",
        "    {\"tools\": \"tools\", END: END}, # 반환값이 \"tools\" 면 \"tools\" 노드로, END 면 END로 이동\n",
        ")"
      ],
      "metadata": {
        "id": "A1bridmtKcRq",
        "colab": {
          "base_uri": "https://localhost:8080/"
        },
        "outputId": "64e22631-0e8d-47ef-c84e-a8aba17f0894"
      },
      "execution_count": null,
      "outputs": [
        {
          "output_type": "execute_result",
          "data": {
            "text/plain": [
              "<langgraph.graph.state.StateGraph at 0x78b718348e10>"
            ]
          },
          "metadata": {},
          "execution_count": 20
        }
      ]
    },
    {
      "cell_type": "code",
      "source": [
        "# 엣지 연결\n",
        "graph_builder.add_edge(\"tools\", \"chatbot\") # 도구가 호출될 때마다 챗봇으로 돌아가 다음 단계를 결정\n",
        "graph_builder.add_edge(START, \"chatbot\")\n",
        "graph = graph_builder.compile()"
      ],
      "metadata": {
        "id": "rKyZ4XrQ80iu"
      },
      "execution_count": null,
      "outputs": []
    },
    {
      "cell_type": "markdown",
      "source": [
        "### **그래프 시각화**"
      ],
      "metadata": {
        "id": "Ybsyj6O8kJXZ"
      }
    },
    {
      "cell_type": "code",
      "source": [
        "from IPython.display import Image, display\n",
        "\n",
        "try:\n",
        "    display(Image(graph.get_graph().draw_mermaid_png()))\n",
        "except Exception:\n",
        "    # This requires some extra dependencies and is optional\n",
        "    pass"
      ],
      "metadata": {
        "colab": {
          "base_uri": "https://localhost:8080/",
          "height": 266
        },
        "id": "fXzCe94TKfUL",
        "outputId": "6f539515-2b68-49f6-dff5-214e10965615"
      },
      "execution_count": null,
      "outputs": [
        {
          "output_type": "display_data",
          "data": {
            "image/png": "[encoded data removed]",
            "text/plain": [
              "<IPython.core.display.Image object>"
            ]
          },
          "metadata": {}
        }
      ]
    },
    {
      "cell_type": "markdown",
      "source": [
        "### **실행**"
      ],
      "metadata": {
        "id": "LM0yrjwskNpg"
      }
    },
    {
      "cell_type": "code",
      "source": [
        "def stream_graph_updates(user_input: str):\n",
        "    for event in graph.stream({\"messages\": [{\"role\": \"user\", \"content\": user_input}]}): # graph 노드 호출 결과 받아옴\n",
        "        for value in event.values():\n",
        "            print(\"Assistant:\", value[\"messages\"][-1].content) # AI 답변 출력"
      ],
      "metadata": {
        "id": "PQpzyrkZLxTD"
      },
      "execution_count": null,
      "outputs": []
    },
    {
      "cell_type": "code",
      "source": [
        "while True:\n",
        "    try:\n",
        "        user_input = input(\"User: \")\n",
        "        if user_input.lower() in [\"quit\", \"exit\", \"q\"]:\n",
        "            print(\"Goodbye!\")\n",
        "            break\n",
        "\n",
        "        stream_graph_updates(user_input)\n",
        "    except:\n",
        "        # fallback if input() is not available\n",
        "        user_input = \"What do you know about LangGraph?\"\n",
        "        print(\"User: \" + user_input)\n",
        "        stream_graph_updates(user_input)\n",
        "        break"
      ],
      "metadata": {
        "colab": {
          "base_uri": "https://localhost:8080/"
        },
        "id": "2K7sSYQ9KhOA",
        "outputId": "dcbcce72-1a02-4f79-c072-5334701984b6"
      },
      "execution_count": null,
      "outputs": [
        {
          "output_type": "stream",
          "name": "stdout",
          "text": [
            "User: 안녕\n",
            "Assistant: 안녕하세요! 오늘 어떻게 도와드릴까요?\n",
            "User: 랭체인이 뭐야?\n",
            "Assistant: \n",
            "Assistant: [{\"url\": \"https://www.samsungsds.com/kr/insights/the-concept-of-langchain.html\", \"content\": \"\\ub7ad\\uccb4\\uc778\\uc740 \\uc5b8\\uc5b4 \\ubaa8\\ub378 \\uae30\\ubc18\\uc758 \\uc560\\ud50c\\ub9ac\\ucf00\\uc774\\uc158\\uc744 \\uac1c\\ubc1c\\ud558\\ub294 \\ud504\\ub808\\uc784\\uc6cc\\ud06c\\ub85c, \\ucc57\\ubd07, Q&A, \\ucf54\\ub4dc \\uc0dd\\uc131 \\ub4f1 \\ub2e4\\uc591\\ud55c \\uc791\\uc5c5\\uc744 \\ud560 \\uc218 \\uc788\\uc2b5\\ub2c8\\ub2e4. \\ub7ad\\uccb4\\uc778\\uc740 \\ubaa8\\ub4c8\\uc2dd \\ucd94\\uc0c1\\ud654\\uc640 \\ucd94\\uc0c1\\ud654 \\uad6c\\ud604\\uc744 \\ud1b5\\ud574 \\uc5b8\\uc5b4 \\ubaa8\\ub378\\uacfc \\ub370\\uc774\\ud130 \\uc18c\\uc2a4\\ub97c \\uc5f0\\uacb0\\ud558\\uace0 \\uc0c1\\ud638\\uc791\\uc6a9\\ud558\\uba70, \\uae30\\uc131\\ud615 \\uccb4\\uc778\\uacfc \\uc0ac\\uc6a9\\uc790\"}, {\"url\": \"https://www.samsungsds.com/kr/insights/what-is-langchain.html\", \"content\": \"\\uc778\\uacf5\\uc9c0\\ub2a5\\n\\ub7ad\\uccb4\\uc778(LangChain)\\uc774\\ub780 \\ubb34\\uc5c7\\uc778\\uac00?\\n\\uc778\\uc1c4\\ud558\\uae30\\n\\uc774 \\uae00\\uc740 IDG\\uc758 \\uc544\\ud2f0\\ud074\\uc744 \\uc804\\uc7ac\\ud558\\uc5ec \\uc81c\\uacf5\\ud569\\ub2c8\\ub2e4.\\n \\ub7ad\\uccb4\\uc778\\uc740 \\uac04\\ub2e8\\ud558\\uace0 \\ud1b5\\ud569\\ub41c API\\ub97c \\ub178\\ucd9c\\ud558\\uc5ec \\uae30\\ubcf8 LLM\\uc758 \\uad6c\\ud604 \\uc138\\ubd80 \\uc0ac\\ud56d\\uc744 \\uc694\\uc57d\\ud558\\ub294\\ub370, \\uc774 API\\ub97c \\ud1b5\\ud574 \\uac1c\\ubc1c\\uc790\\ub4e4\\uc740 \\ucf54\\ub4dc\\ub97c \\ud06c\\uac8c \\ubcc0\\uacbd\\ud558\\uc9c0 \\uc54a\\uace0 \\ubaa8\\ub378\\uc744 \\uc27d\\uac8c \\uad50\\uccb4\\ud558\\uac70\\ub098 \\ub300\\uccb4\\ud560 \\uc218 \\uc788\\ub2e4.\\n \\uad6c\\ub3c5\\ud558\\uae30\\n\\uc88b\\uc544\\uc694\\nInfoWorld\\n\\ub274\\uc2a4\\ub808\\ud130 \\uad6c\\ub3c5\\uc2e0\\uccad \\u2460\\u00a0 \\ub370\\uc774\\ud130 \\uc18c\\uc2a4\\n\\uc560\\ud50c\\ub9ac\\ucf00\\uc774\\uc158\\uc774 LLM\\uc5d0 \\ub300\\ud55c \\ucee8\\ud14d\\uc2a4\\ud2b8\\ub97c \\uad6c\\ucd95\\ud558\\uae30 \\uc704\\ud574 PDF, \\uc6f9 \\ud398\\uc774\\uc9c0, CSV, \\uad00\\uacc4\\ud615 \\ub370\\uc774\\ud130\\ubca0\\uc774\\uc2a4\\uc640 \\uac19\\uc740 \\uc678\\ubd80 \\uc18c\\uc2a4\\uc5d0\\uc11c \\ub370\\uc774\\ud130\\ub97c \\uac80\\uc0c9\\ud574\\uc57c \\ud558\\ub294 \\uacbd\\uc6b0\\uac00 \\uc788\\ub2e4. \\uc624\\ud508\\uc18c\\uc2a4 \\ubc0f \\uc0c1\\uc6a9 LLM, \\ubca1\\ud130 \\ub370\\uc774\\ud130\\ubca0\\uc774\\uc2a4, \\ub370\\uc774\\ud130 \\uc18c\\uc2a4 \\ubc0f \\uc784\\ubca0\\ub529\\uc5d0 \\ub300\\ud55c \\uc9c0\\uc6d0\\uc740 \\ub7ad\\uccb4\\uc778\\uc744 \\uac1c\\ubc1c\\uc790\\uc5d0\\uac8c \\ud544\\uc218\\uc801\\uc778 \\ub3c4\\uad6c\\ub85c \\ub9cc\\ub4e4\\uace0 \\uc788\\ub2e4.\\n\"}]\n",
            "Assistant: 랭체인(LangChain)은 언어 모델 기반의 애플리케이션을 개발하는 프레임워크로, 챗봇, Q&A, 코드 생성 등 다양한 작업을 수행할 수 있는 플랫폼입니다. 이 프레임워크는 언어 모델과 데이터 소스를 연결하고 상호작용하도록 하여, 복잡한 AI 작업을 쉽게 처리할 수 있게 도와줍니다. 랭체인은 또한 간단하고 통합된 API를 통해 기존의 대규모 언어 모델(LLM)의 구조를 효율적으로 요약하며, 모델을 쉽게 교체하거나 대체할 수 있는 기능을 제공합니다. PDF, 웹 페이지, CSV 등 외부 데이터 소스와의 연동을 지원하여, 데이터 기반의 AI 솔루션 개발에 필수적인 도구로 많이 사용되고 있습니다.\n",
            "User: 고마워!\n",
            "Assistant: 천만에요! 더 필요하신 것이 있으면 언제든지 말씀해 주세요.\n",
            "User: exit\n",
            "Goodbye!\n"
          ]
        }
      ]
    },
    {
      "cell_type": "code",
      "source": [],
      "metadata": {
        "id": "c8g4XLzXKrm4"
      },
      "execution_count": null,
      "outputs": []
    }
  ]
}